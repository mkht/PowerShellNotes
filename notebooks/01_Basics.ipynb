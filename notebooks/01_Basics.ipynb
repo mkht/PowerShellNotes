{
 "cells": [
  {
   "cell_type": "markdown",
   "metadata": {},
   "source": [
    "# PowerShell Basics\n",
    "PowerShellのキホンのキを説明します  \n",
    "よく使うところだけを絞って説明するので、さらに詳しいことは本を読むとかググってください"
   ]
  },
  {
   "cell_type": "markdown",
   "metadata": {},
   "source": [
    "----\n",
    "## 変数\n",
    "PowerShellの変数はドル記号`$`の後に変数名を続けて書きます `$変数名`  \n",
    "変数にデータを代入するには`$変数 = データ` のようにします"
   ]
  },
  {
   "cell_type": "code",
   "execution_count": 1,
   "metadata": {},
   "outputs": [
    {
     "data": {
      "text/html": [
       "\r\n",
       "<div>\r\n",
       "    <div id='dotnet-interactive-this-cell-299.80793a97a2d445cbbe4995eed40b8eac' style='display: none'>\r\n",
       "        The below script needs to be able to find the current output cell; this is an easy method to get it.\r\n",
       "    </div>\r\n",
       "    <script type='text/javascript'>\r\n",
       "// ensure `require` is available globally\r\n",
       "if (typeof require !== typeof Function || typeof require.config !== typeof Function) {\r\n",
       "    let require_script = document.createElement('script');\r\n",
       "    require_script.setAttribute('src', 'https://cdnjs.cloudflare.com/ajax/libs/require.js/2.3.6/require.min.js');\r\n",
       "    require_script.setAttribute('type', 'text/javascript');\r\n",
       "    require_script.onload = function () {\r\n",
       "        loadDotnetInteractiveApi();\r\n",
       "    };\r\n",
       "\r\n",
       "    document.getElementsByTagName('head')[0].appendChild(require_script);\r\n",
       "}\r\n",
       "else {\r\n",
       "    loadDotnetInteractiveApi();\r\n",
       "}\r\n",
       "\r\n",
       "async function probeAddresses(probingAddresses) {\r\n",
       "    function timeout(ms, promise) {\r\n",
       "        return new Promise(function (resolve, reject) {\r\n",
       "            setTimeout(function () {\r\n",
       "                reject(new Error('timeout'))\r\n",
       "            }, ms)\r\n",
       "            promise.then(resolve, reject)\r\n",
       "        })\r\n",
       "    }\r\n",
       "\r\n",
       "    if (Array.isArray(probingAddresses)) {\r\n",
       "        for (let i = 0; i < probingAddresses.length; i++) {\r\n",
       "\r\n",
       "            let rootUrl = probingAddresses[i];\r\n",
       "\r\n",
       "            if (!rootUrl.endsWith('/')) {\r\n",
       "                rootUrl = `${rootUrl}/`;\r\n",
       "            }\r\n",
       "\r\n",
       "            try {\r\n",
       "                let response = await timeout(1000, fetch(`${rootUrl}discovery`, {\r\n",
       "                    method: 'POST',\r\n",
       "                    cache: 'no-cache',\r\n",
       "                    mode: 'cors',\r\n",
       "                    timeout: 1000,\r\n",
       "                    headers: {\r\n",
       "                        'Content-Type': 'text/plain'\r\n",
       "                    },\r\n",
       "                    body: probingAddresses[i]\r\n",
       "                }));\r\n",
       "\r\n",
       "                if (response.status == 200) {\r\n",
       "                    return rootUrl;\r\n",
       "                }\r\n",
       "            }\r\n",
       "            catch (e) { }\r\n",
       "        }\r\n",
       "    }\r\n",
       "}\r\n",
       "\r\n",
       "function loadDotnetInteractiveApi() {\r\n",
       "    probeAddresses([\"http://10.244.95.199:1024/\", \"http://127.0.0.1:1024/\"])\r\n",
       "        .then((root) => {\r\n",
       "            // use probing to find host url and api resources\r\n",
       "            // load interactive helpers and language services\r\n",
       "            let dotnet_require = require.config({\r\n",
       "                context: '299.80793a97a2d445cbbe4995eed40b8eac',\r\n",
       "                paths: {\r\n",
       "                    'dotnet-interactive': `${root}resources`\r\n",
       "                }\r\n",
       "            }) || require;\r\n",
       "            if (!window.dotnet_require) {\r\n",
       "                window.dotnet_require = dotnet_require;\r\n",
       "            }\r\n",
       "        \r\n",
       "            dotnet_require([\r\n",
       "                    'dotnet-interactive/dotnet-interactive'\r\n",
       "                ],\r\n",
       "                function (dotnet) {\r\n",
       "                    dotnet.init(window);\r\n",
       "                },\r\n",
       "                function (error) {\r\n",
       "                    console.log(error);\r\n",
       "                }\r\n",
       "            );\r\n",
       "        })\r\n",
       "        .catch(error => {console.log(error);});\r\n",
       "    }\r\n",
       "    </script>\r\n",
       "</div>"
      ]
     },
     "metadata": {},
     "output_type": "display_data"
    }
   ],
   "source": [
    "$Name               # Nameという名前の変数を作成\n",
    "$Name = 'Yamada'    # Name変数に'Yamada'を代入"
   ]
  },
  {
   "cell_type": "markdown",
   "metadata": {},
   "source": [
    "変数名に日本語やスペース・記号を含むこともできますが、可読性が悪くなるのであまり使わないほうがいいでしょう"
   ]
  },
  {
   "cell_type": "code",
   "execution_count": 2,
   "metadata": {},
   "outputs": [],
   "source": [
    "$日本語名 = '山田'\n",
    "${Do you have a pen?} = $true    #変数名にスペース・記号を使うときは{}で囲む"
   ]
  },
  {
   "cell_type": "markdown",
   "metadata": {},
   "source": [
    "### 自動変数\n",
    "PowerShellには最初から定義されている自動変数がいくつか存在します  \n",
    "自動変数の値をユーザが上書きすることはできません  \n",
    "よく使うものをいくつか紹介します"
   ]
  },
  {
   "cell_type": "markdown",
   "metadata": {},
   "source": [
    "#### $true\n",
    "真偽値の\"真\"を表します"
   ]
  },
  {
   "cell_type": "code",
   "execution_count": 3,
   "metadata": {},
   "outputs": [],
   "source": [
    "$IsHuman = $true"
   ]
  },
  {
   "cell_type": "markdown",
   "metadata": {},
   "source": [
    "### $false\n",
    "真偽値の\"偽\"を表します"
   ]
  },
  {
   "cell_type": "code",
   "execution_count": 4,
   "metadata": {},
   "outputs": [],
   "source": [
    "$IsAlien = $false"
   ]
  },
  {
   "cell_type": "markdown",
   "metadata": {},
   "source": [
    "### $null\n",
    "Nullを表します。変数のNull判定に使用したり、コマンドの出力を破棄するときに使います"
   ]
  },
  {
   "cell_type": "code",
   "execution_count": 5,
   "metadata": {},
   "outputs": [],
   "source": [
    "$null = 'hogehoge'    #$nullに値を代入すると、どこにも保存されずに破棄されます"
   ]
  },
  {
   "cell_type": "markdown",
   "metadata": {},
   "source": [
    "### $PSScriptRoot\n",
    "実行中のスクリプトのフルパスが入っています"
   ]
  },
  {
   "cell_type": "markdown",
   "metadata": {},
   "source": [
    "----\n",
    "## データの種類 (型)\n",
    "PowerShellはデータの型をあまり意識せずに手軽に扱える言語ですが、全てのデータには型が存在します  \n",
    "スクリプトを書いていると型を意識しないといけない場面に直面することがあります"
   ]
  },
  {
   "cell_type": "markdown",
   "metadata": {},
   "source": [
    "### 整数 (int)\n",
    "数値をただ書くと、そのデータは整数型になります"
   ]
  },
  {
   "cell_type": "code",
   "execution_count": 6,
   "metadata": {},
   "outputs": [],
   "source": [
    "$Number = 100    #整数の100"
   ]
  },
  {
   "cell_type": "markdown",
   "metadata": {},
   "source": [
    "### 文字列 (string)\n",
    "文字をダブルクォート`\"`かシングルクォート`'`で囲むと文字列データになります"
   ]
  },
  {
   "cell_type": "code",
   "execution_count": 7,
   "metadata": {},
   "outputs": [],
   "source": [
    "# Name1とName2には全く同じデータが入ります\n",
    "$Name1 = \"田中\"    #ダブルクォートで囲む例\n",
    "$Name2 = '田中'    #シングルクォートで囲む例"
   ]
  },
  {
   "cell_type": "markdown",
   "metadata": {},
   "source": [
    "ダブルクォートで囲む場合とシングルクォートで囲む場合の違いは、文字列内の変数が展開(解釈)されるか否かです"
   ]
  },
  {
   "cell_type": "code",
   "execution_count": 8,
   "metadata": {},
   "outputs": [
    {
     "name": "stdout",
     "output_type": "stream",
     "text": [
      "私の名前は 鈴木 です\n",
      "私の名前は $Name です\n"
     ]
    }
   ],
   "source": [
    "$Name = '鈴木'\n",
    "\n",
    "# ダブルクォート囲みは変数が展開される\n",
    "\"私の名前は $Name です\"\n",
    "\n",
    "# シングルクォート囲みは変数が展開されない\n",
    "'私の名前は $Name です'"
   ]
  },
  {
   "cell_type": "markdown",
   "metadata": {},
   "source": [
    "文字列内でシングルクォートを使う場合はダブルクォート囲みで文字列を作る必要があります  \n",
    "同様に文字列内でダブルクォートを使う場合はシングルクォート囲みで文字列を作る必要があります  \n",
    "どうしてもの場合はバッククォート`````を使うとエスケープもできます（ダブルクォート囲みの場合のみ）"
   ]
  },
  {
   "cell_type": "code",
   "execution_count": 9,
   "metadata": {},
   "outputs": [
    {
     "name": "stdout",
     "output_type": "stream",
     "text": [
      "ここは'日本'です\n",
      "ここは\"東京\"です\n",
      "ここは\"新宿\"です\n"
     ]
    }
   ],
   "source": [
    "\"ここは'日本'です\"    #ダブルクォート囲みなら文字列内でシングルクォートが使える\n",
    "'ここは\"東京\"です'    #シングルクォート囲みなら文字列内でダブルクォートが使える\n",
    "\"ここは`\"新宿`\"です\"  #バッククォートを使うとエスケープ可能"
   ]
  },
  {
   "cell_type": "markdown",
   "metadata": {},
   "source": [
    "### 真偽値 (bool)\n",
    "TrueとかFalseってやつです"
   ]
  },
  {
   "cell_type": "code",
   "execution_count": 10,
   "metadata": {},
   "outputs": [],
   "source": [
    "$InJapan = $true\n",
    "$InChine = $false"
   ]
  },
  {
   "cell_type": "markdown",
   "metadata": {},
   "source": [
    "#### データ型の確認\n",
    "扱っているデータの型が分からなくなってしまった場合、`GetType()`を使うと型情報を表示できます"
   ]
  },
  {
   "cell_type": "code",
   "execution_count": 11,
   "metadata": {},
   "outputs": [
    {
     "name": "stdout",
     "output_type": "stream",
     "text": [
      "\n",
      "IsPublic IsSerial Name                                     BaseType\n",
      "-------- -------- ----                                     --------\n",
      "True     True     String                                   System.Object\n",
      "\n"
     ]
    }
   ],
   "source": [
    "$Number = \"2048\"    #$Numberは文字列だっけ？整数だっけ？\n",
    "$Number.GetType()   #文字列(String)と分かる"
   ]
  },
  {
   "cell_type": "markdown",
   "metadata": {},
   "source": [
    "#### データ型の変換 (キャスト)\n",
    "データ型を変換することをキャストと呼びます  \n",
    "変換したいデータの頭に`[型名]`をつけると指定した型に変換されます  \n",
    "（変換できる場合のみ）"
   ]
  },
  {
   "cell_type": "code",
   "execution_count": 12,
   "metadata": {},
   "outputs": [
    {
     "name": "stdout",
     "output_type": "stream",
     "text": [
      "1024\n"
     ]
    }
   ],
   "source": [
    "$StrNum = \"1024\"\n",
    "[int]$StrNum     # 頭に[int]を付けたので文字列の'1024'は整数の1024に変換される"
   ]
  },
  {
   "cell_type": "code",
   "execution_count": 13,
   "metadata": {},
   "outputs": [
    {
     "name": "stdout",
     "output_type": "stream",
     "text": [
      "\u001b[91mInvalidArgument: \n",
      "\u001b[96mLine |\n",
      "\u001b[96m   2 | \u001b[0m \u001b[96m[int]$Hello\u001b[0m      # \"こんにちは\"は整数に変換できないのでエラーになる\n",
      "\u001b[96m     | \u001b[91m ~~~~~~~~~~~\n",
      "\u001b[91m\u001b[96m     | \u001b[91mCannot convert value \"こんにちは\" to type \"System.Int32\". Error: \"Input string was not in a correct format.\"\u001b[0m\n"
     ]
    }
   ],
   "source": [
    "$Hello = \"こんにちは\"\n",
    "[int]$Hello      # \"こんにちは\"は整数に変換できないのでエラーになる"
   ]
  },
  {
   "cell_type": "markdown",
   "metadata": {},
   "source": [
    "----\n",
    "## 配列\n",
    "ひとつの変数に複数のデータをまとめて入れておくことができるのが配列(Array)です  \n",
    "複数のデータをカンマ`,`で区切ると配列になります"
   ]
  },
  {
   "cell_type": "code",
   "execution_count": 14,
   "metadata": {},
   "outputs": [
    {
     "name": "stdout",
     "output_type": "stream",
     "text": [
      "5\n",
      "Nakamura\n",
      "6\n"
     ]
    }
   ],
   "source": [
    "# 配列には複数のデータ型をまとめて入れておけます\n",
    "$Array = 100, 200, 'Nakamura', $true, 25\n",
    "\n",
    "# 配列に入っているデータの下図はCountプロパティで確認できます\n",
    "$Array.Count    #5\n",
    "\n",
    "# 配列内の3番目のデータだけ取り出す\n",
    "# インデックスが 0, 1, 2, ... と0から始まるので3番目は「2」になります\n",
    "$Array[2]       #Nakamura\n",
    "\n",
    "# 配列にデータを追加するときは += を使う\n",
    "$Array += 'Kenji'\n",
    "$Array.Count    #データを一つ追加したので6に変わった"
   ]
  },
  {
   "cell_type": "markdown",
   "metadata": {},
   "source": [
    "----\n",
    "## 連想配列 (ハッシュテーブル)\n",
    "任意の名前のキーにデータを紐付けておくことができます  \n",
    "PowerShellで連想配列を作るには`@{}`記法を使います"
   ]
  },
  {
   "cell_type": "code",
   "execution_count": 15,
   "metadata": {},
   "outputs": [
    {
     "name": "stdout",
     "output_type": "stream",
     "text": [
      "Yoshiko\n",
      "20\n"
     ]
    }
   ],
   "source": [
    "# 3つのキーを持つ連想配列を作成\n",
    "$User1 = @{\n",
    "    LastName  = 'Takeda'\n",
    "    FirstName = 'Yoshiko'\n",
    "    Age       = 20\n",
    "}\n",
    "\n",
    "# それぞれのキーに入っているデータを取り出す\n",
    "$User1.FirstName    #Yoshiko\n",
    "$User1.Age          #20\n",
    "\n",
    "# データを更新(再代入)\n",
    "$User1.Age = 21     #Ageを20から21に変更"
   ]
  },
  {
   "cell_type": "markdown",
   "metadata": {},
   "source": [
    "----\n",
    "## 算術演算子\n",
    "足し算とか引き算とかをする記号を算術演算子といいます  \n",
    "使える記号は`+`, `-`, `*`, `/`, `%`の5種類です"
   ]
  },
  {
   "cell_type": "code",
   "execution_count": 16,
   "metadata": {},
   "outputs": [
    {
     "name": "stdout",
     "output_type": "stream",
     "text": [
      "30\n"
     ]
    }
   ],
   "source": [
    "# + 足し算\n",
    "10 + 20    #30"
   ]
  },
  {
   "cell_type": "code",
   "execution_count": 17,
   "metadata": {},
   "outputs": [
    {
     "name": "stdout",
     "output_type": "stream",
     "text": [
      "80\n"
     ]
    }
   ],
   "source": [
    "# - 引き算\n",
    "100 - 20   #80"
   ]
  },
  {
   "cell_type": "code",
   "execution_count": 18,
   "metadata": {},
   "outputs": [
    {
     "name": "stdout",
     "output_type": "stream",
     "text": [
      "150\n"
     ]
    }
   ],
   "source": [
    "# * 掛け算\n",
    "15 * 10    #150"
   ]
  },
  {
   "cell_type": "code",
   "execution_count": 19,
   "metadata": {},
   "outputs": [
    {
     "name": "stdout",
     "output_type": "stream",
     "text": [
      "3.33333333333333\n"
     ]
    }
   ],
   "source": [
    "# / 割り算\n",
    "10 / 3   #3.33333333333333"
   ]
  },
  {
   "cell_type": "code",
   "execution_count": 20,
   "metadata": {},
   "outputs": [
    {
     "name": "stdout",
     "output_type": "stream",
     "text": [
      "1\n"
     ]
    }
   ],
   "source": [
    "# % 割り算の余り\n",
    "10 % 3   #1"
   ]
  },
  {
   "cell_type": "markdown",
   "metadata": {},
   "source": [
    "----\n",
    "## 比較演算子\n",
    "2つの値の大小や一致を判定するための演算子です  \n",
    "結果は真偽値（TrueかFalse）で返ってきます  \n",
    "他の言語だと`>`, `<`, `==`を使うことが多いですが、PowerShellの場合はちょっと違う記号を使うので要注意です"
   ]
  },
  {
   "cell_type": "code",
   "execution_count": 21,
   "metadata": {},
   "outputs": [
    {
     "name": "stdout",
     "output_type": "stream",
     "text": [
      "True\n",
      "False\n"
     ]
    }
   ],
   "source": [
    "# -eq  左辺と右辺が一致しているか確認 (Equal)\n",
    "123 -eq 123             #True\n",
    "'Yamada' -eq 'Tanaka'   #False"
   ]
  },
  {
   "cell_type": "code",
   "execution_count": 22,
   "metadata": {},
   "outputs": [
    {
     "name": "stdout",
     "output_type": "stream",
     "text": [
      "True\n",
      "False\n"
     ]
    }
   ],
   "source": [
    "# -ne  左辺と右辺が異なることを確認 (Not Equal)\n",
    "200 -ne 100             #True\n",
    "'Yamada' -ne 'Yamada'   #False"
   ]
  },
  {
   "cell_type": "code",
   "execution_count": 23,
   "metadata": {},
   "outputs": [
    {
     "name": "stdout",
     "output_type": "stream",
     "text": [
      "True\n",
      "False\n"
     ]
    }
   ],
   "source": [
    "# -lt  左辺が右辺より小さい (Less Than)\n",
    "100 -lt 500             #True\n",
    "200 -lt -100            #False"
   ]
  },
  {
   "cell_type": "code",
   "execution_count": 24,
   "metadata": {},
   "outputs": [
    {
     "name": "stdout",
     "output_type": "stream",
     "text": [
      "True\n"
     ]
    }
   ],
   "source": [
    "# -gt  左辺が右辺より大きい (Greater Than)\n",
    "500 -gt 300             #True"
   ]
  },
  {
   "cell_type": "code",
   "execution_count": 25,
   "metadata": {},
   "outputs": [
    {
     "name": "stdout",
     "output_type": "stream",
     "text": [
      "True\n",
      "True\n"
     ]
    }
   ],
   "source": [
    "# -le  左辺が右辺以下 (Less than or Equal)\n",
    "100 -le 500             #True\n",
    "100 -le 100             #True"
   ]
  },
  {
   "cell_type": "code",
   "execution_count": 26,
   "metadata": {},
   "outputs": [
    {
     "name": "stdout",
     "output_type": "stream",
     "text": [
      "True\n"
     ]
    }
   ],
   "source": [
    "# -ge  左辺が右辺以上 (Greater than or Equal)\n",
    "999 -ge 777             #True"
   ]
  },
  {
   "cell_type": "markdown",
   "metadata": {},
   "source": [
    "### 文字列と数値の比較に注意\n",
    "比較演算子で左辺と右辺のデータ型が異なる場合、左辺のデータが右辺のデータ型に自動的に変換されます  \n",
    "この挙動を意識していないと、文字列と数値など異なるデータ型同士を比較したときに思わぬ結果になることがあります"
   ]
  },
  {
   "cell_type": "code",
   "execution_count": 27,
   "metadata": {},
   "outputs": [
    {
     "name": "stdout",
     "output_type": "stream",
     "text": [
      "True\n"
     ]
    }
   ],
   "source": [
    "# 文字列の'100'と数値の-50を比較\n",
    "'100' -gt -50    #直感的にはTrueだが結果はFalse"
   ]
  },
  {
   "cell_type": "markdown",
   "metadata": {},
   "source": [
    "たとえば上記のコードの場合、左辺が文字列なので右辺の数値-50は文字列'-50'に変換されます  \n",
    "そのため'100'と'-50'の文字列同士の比較が実行され、直感とは異なる結果になってしまいます\n",
    "\n",
    "> 文字列同士の大小比較は文字コードの比較になります\n",
    "\n",
    "これを回避するには左辺の文字列を数値に変換するか、左辺に数値を持ってくるようにします"
   ]
  },
  {
   "cell_type": "code",
   "execution_count": 28,
   "metadata": {},
   "outputs": [
    {
     "name": "stdout",
     "output_type": "stream",
     "text": [
      "True\n",
      "True\n"
     ]
    }
   ],
   "source": [
    "[int]'100' -gt -50    #True\n",
    "-50 -lt '100'         #True"
   ]
  },
  {
   "cell_type": "markdown",
   "metadata": {},
   "source": [
    "----\n",
    "## マッチング演算子\n",
    "文字列をワイルドカードや正規表現で検索することができます"
   ]
  },
  {
   "cell_type": "code",
   "execution_count": 29,
   "metadata": {},
   "outputs": [
    {
     "name": "stdout",
     "output_type": "stream",
     "text": [
      "True\n"
     ]
    }
   ],
   "source": [
    "# -like ワイルドカード検索\n",
    "'ABCDEF' -like '*CDE*'    #True"
   ]
  },
  {
   "cell_type": "code",
   "execution_count": 30,
   "metadata": {},
   "outputs": [
    {
     "name": "stdout",
     "output_type": "stream",
     "text": [
      "False\n"
     ]
    }
   ],
   "source": [
    "# -match 正規表現検索\n",
    "'ABC123' -match 'ABC%d'   #True"
   ]
  },
  {
   "cell_type": "markdown",
   "metadata": {},
   "source": [
    "----\n",
    "## 論理演算子\n",
    "ANDとかORとかNOTってやつです"
   ]
  },
  {
   "cell_type": "code",
   "execution_count": 31,
   "metadata": {},
   "outputs": [
    {
     "name": "stdout",
     "output_type": "stream",
     "text": [
      "True\n",
      "False\n"
     ]
    }
   ],
   "source": [
    "# -and (論理積)\n",
    "# 左辺も右辺も両方TrueならTrue\n",
    "(100 -gt 0) -and ('Yamada' -eq 'Yamada')    # 左辺と右辺が両方TrueなのでTrue\n",
    "(400 -gt 0) -and ('Yamada' -eq 'Tanaka')    # 左辺はTrueだが右辺がFalseなのでFalse"
   ]
  },
  {
   "cell_type": "code",
   "execution_count": 32,
   "metadata": {},
   "outputs": [
    {
     "name": "stdout",
     "output_type": "stream",
     "text": [
      "True\n",
      "False\n"
     ]
    }
   ],
   "source": [
    "# -or (論理和)\n",
    "# 左辺か右辺のどちらか一方でもTrueならTrue\n",
    "(100 -eq 0) -or (50 -eq 50)                 # 左辺はFalseだが右辺がTrueなのでTrue\n",
    "(100 -eq 0) -or (40 -eq 50)                 # 左辺も右辺も両方FalseなのでFalse"
   ]
  },
  {
   "cell_type": "code",
   "execution_count": 33,
   "metadata": {},
   "outputs": [
    {
     "name": "stdout",
     "output_type": "stream",
     "text": [
      "False\n",
      "True\n"
     ]
    }
   ],
   "source": [
    "# -not (否定)\n",
    "-not $True    #Trueの否定はFalse\n",
    "! $False      #-notの代わりに!を使うこともできる"
   ]
  }
 ],
 "metadata": {
  "kernelspec": {
   "display_name": ".NET (PowerShell)",
   "language": "PowerShell",
   "name": ".net-powershell"
  },
  "language_info": {
   "file_extension": ".ps1",
   "mimetype": "text/x-powershell",
   "name": "PowerShell",
   "pygments_lexer": "powershell",
   "version": "7.0"
  }
 },
 "nbformat": 4,
 "nbformat_minor": 4
}
